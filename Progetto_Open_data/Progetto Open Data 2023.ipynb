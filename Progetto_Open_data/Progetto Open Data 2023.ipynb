{
 "cells": [
  {
   "cell_type": "markdown",
   "source": [
    "Luoghi della Sicilia"
   ],
   "metadata": {
    "collapsed": false
   },
   "id": "8bdcf5fa13c6a46f"
  },
  {
   "cell_type": "markdown",
   "source": [
    "Pulizia dei Dataset"
   ],
   "metadata": {
    "collapsed": false
   },
   "id": "92d4ac1bbd408797"
  },
  {
   "cell_type": "markdown",
   "source": [
    "Creazione Grafo RDF"
   ],
   "metadata": {
    "collapsed": false
   },
   "id": "964d0dd84f695f0b"
  },
  {
   "cell_type": "markdown",
   "source": [
    "Grafici"
   ],
   "metadata": {
    "collapsed": false
   },
   "id": "a2e248e416fe8883"
  }
 ],
 "metadata": {
  "kernelspec": {
   "display_name": "Python 3",
   "language": "python",
   "name": "python3"
  },
  "language_info": {
   "codemirror_mode": {
    "name": "ipython",
    "version": 2
   },
   "file_extension": ".py",
   "mimetype": "text/x-python",
   "name": "python",
   "nbconvert_exporter": "python",
   "pygments_lexer": "ipython2",
   "version": "2.7.6"
  }
 },
 "nbformat": 4,
 "nbformat_minor": 5
}
